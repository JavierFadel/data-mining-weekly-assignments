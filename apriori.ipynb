{
    "cells": [
        {
            "cell_type": "code",
            "execution_count": 13,
            "id": "0f1a9b2e",
            "metadata": {},
            "outputs": [
                {
                    "ename": "ModuleNotFoundError",
                    "evalue": "No module named 'mlxtend'",
                    "output_type": "error",
                    "traceback": [
                        "\u001b[0;31m---------------------------------------------------------------------------\u001b[0m",
                        "\u001b[0;31mModuleNotFoundError\u001b[0m                       Traceback (most recent call last)",
                        "Cell \u001b[0;32mIn[13], line 3\u001b[0m\n\u001b[1;32m      1\u001b[0m \u001b[38;5;66;03m# Import libraries\u001b[39;00m\n\u001b[1;32m      2\u001b[0m \u001b[38;5;28;01mimport\u001b[39;00m \u001b[38;5;21;01mpandas\u001b[39;00m \u001b[38;5;28;01mas\u001b[39;00m \u001b[38;5;21;01mpd\u001b[39;00m\n\u001b[0;32m----> 3\u001b[0m \u001b[38;5;28;01mfrom\u001b[39;00m \u001b[38;5;21;01mmlxtend\u001b[39;00m\u001b[38;5;21;01m.\u001b[39;00m\u001b[38;5;21;01mfrequent_patterns\u001b[39;00m \u001b[38;5;28;01mimport\u001b[39;00m apriori\n\u001b[1;32m      4\u001b[0m \u001b[38;5;28;01mfrom\u001b[39;00m \u001b[38;5;21;01mmlxtend\u001b[39;00m\u001b[38;5;21;01m.\u001b[39;00m\u001b[38;5;21;01mfrequent_patterns\u001b[39;00m \u001b[38;5;28;01mimport\u001b[39;00m association_rules\n",
                        "\u001b[0;31mModuleNotFoundError\u001b[0m: No module named 'mlxtend'"
                    ]
                }
            ],
            "source": [
                "# Import libraries\n",
                "import pandas as pd\n",
                "from mlxtend.frequent_patterns import apriori\n",
                "from mlxtend.frequent_patterns import association_rules"
            ]
        },
        {
            "cell_type": "code",
            "execution_count": null,
            "id": "6fcb94b2",
            "metadata": {},
            "outputs": [],
            "source": [
                "# Initialize the dataset (list of transactions)\n",
                "data = {\n",
                "    'Roti': [1, 1, 1, 0],\n",
                "    'Selai': [1, 0, 0, 0],\n",
                "    'Mentega': [1, 1, 1, 0],\n",
                "    'Susu': [0, 0, 1, 1],\n",
                "    'Cokelat': [0, 0, 0, 1]\n",
                "}\n",
                "\n",
                "# Convert data into a DataFrame\n",
                "df = pd.DataFrame(data, index=['T1', 'T2', 'T3', 'T4'])\n",
                "\n",
                "# Display the dataset\n",
                "print(\"Dataset (Binary Encoding):\")\n",
                "print(df)"
            ]
        },
        {
            "cell_type": "code",
            "execution_count": null,
            "id": "c02127f1",
            "metadata": {},
            "outputs": [],
            "source": [
                "# Apply Apriori to find frequent itemsets\n",
                "frequent_itemsets = apriori(df, min_support=0.3, use_colnames=True)\n",
                "\n",
                "# Display frequent itemsets\n",
                "print(\"Frequent Itemsets:\")\n",
                "print(frequent_itemsets)"
            ]
        },
        {
            "cell_type": "code",
            "execution_count": null,
            "id": "8aa94217",
            "metadata": {},
            "outputs": [],
            "source": [
                "# Generate association rules with minimum confidence of 60%\n",
                "rules = association_rules(frequent_itemsets, metric=\"confidence\", min_threshold=0.6)\n",
                "\n",
                "# Display the association rules\n",
                "print(\"Association Rules:\")\n",
                "print(rules)"
            ]
        }
    ],
    "metadata": {
        "kernelspec": {
            "display_name": "Python 3",
            "language": "python",
            "name": "python3"
        },
        "language_info": {
            "codemirror_mode": {
                "name": "ipython",
                "version": 3
            },
            "file_extension": ".py",
            "mimetype": "text/x-python",
            "name": "python",
            "nbconvert_exporter": "python",
            "pygments_lexer": "ipython3",
            "version": "3.10.7"
        }
    },
    "nbformat": 4,
    "nbformat_minor": 5
}
