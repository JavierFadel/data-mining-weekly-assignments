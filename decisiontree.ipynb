{
 "cells": [
  {
   "cell_type": "code",
   "execution_count": 1,
   "metadata": {},
   "outputs": [],
   "source": [
    "import numpy as np\n",
    "import pandas as pd\n",
    "from sklearn import tree"
   ]
  },
  {
   "cell_type": "code",
   "execution_count": 3,
   "metadata": {},
   "outputs": [],
   "source": [
    "irisDataset = pd.read_csv('Dataset Iris.csv', delimiter=';', header=0)"
   ]
  },
  {
   "cell_type": "code",
   "execution_count": 4,
   "metadata": {},
   "outputs": [],
   "source": [
    "irisDataset[\"Species\"] = pd.factorize(irisDataset.Species)[0]"
   ]
  },
  {
   "cell_type": "code",
   "execution_count": 5,
   "metadata": {},
   "outputs": [],
   "source": [
    "irisDataset = irisDataset.drop(labels=\"Id\", axis=1)"
   ]
  },
  {
   "cell_type": "code",
   "execution_count": 6,
   "metadata": {},
   "outputs": [],
   "source": [
    "irisDataset = irisDataset.to_numpy()"
   ]
  },
  {
   "cell_type": "code",
   "execution_count": 7,
   "metadata": {},
   "outputs": [],
   "source": [
    "dataTraining = np.concatenate((irisDataset[0:40, :], irisDataset[50:90, :]), axis=0)\n",
    "dataTesting = np.concatenate((irisDataset[40:50, :], irisDataset[90:100, :]), axis=0)"
   ]
  },
  {
   "cell_type": "code",
   "execution_count": 8,
   "metadata": {},
   "outputs": [
    {
     "name": "stdout",
     "output_type": "stream",
     "text": [
      "[0. 0. 0. 0. 0. 0. 0. 0. 0. 0. 0. 0. 0. 0. 0. 0. 0. 0. 0. 0. 0. 0. 0. 0.\n",
      " 0. 0. 0. 0. 0. 0. 0. 0. 0. 0. 0. 0. 0. 0. 0. 0.]\n"
     ]
    },
    {
     "data": {
      "text/plain": [
       "40"
      ]
     },
     "execution_count": 8,
     "metadata": {},
     "output_type": "execute_result"
    }
   ],
   "source": [
    "inputTraining = dataTraining[:, 0:4]\n",
    "inputTesting = dataTesting[:, 0:4]\n",
    "labelTraining = dataTraining[:, 4]\n",
    "labelTesting = dataTesting[:, 4]\n",
    "\n",
    "print(labelTraining)\n",
    "len(labelTraining)"
   ]
  },
  {
   "cell_type": "code",
   "execution_count": 9,
   "metadata": {},
   "outputs": [],
   "source": [
    "model = tree.DecisionTreeClassifier()"
   ]
  },
  {
   "cell_type": "code",
   "execution_count": 10,
   "metadata": {},
   "outputs": [],
   "source": [
    "model = model.fit(inputTraining, labelTraining)"
   ]
  },
  {
   "cell_type": "code",
   "execution_count": 11,
   "metadata": {},
   "outputs": [
    {
     "name": "stdout",
     "output_type": "stream",
     "text": [
      "Label Sebenarnya :  [0. 0. 0. 0. 0. 0. 0. 0. 0. 0.]\n",
      "Hasil Prediksi :  [0. 0. 0. 0. 0. 0. 0. 0. 0. 0.]\n"
     ]
    }
   ],
   "source": [
    "hasilPrediksi = model.predict(inputTesting)\n",
    "print(\"Label Sebenarnya : \", labelTesting)\n",
    "print(\"Hasil Prediksi : \", hasilPrediksi)"
   ]
  },
  {
   "cell_type": "code",
   "execution_count": 12,
   "metadata": {},
   "outputs": [
    {
     "name": "stdout",
     "output_type": "stream",
     "text": [
      "Prediksi Benar : 10 data\n",
      "Prediksi Salah : 0 data\n"
     ]
    }
   ],
   "source": [
    "prediksiBenar = (hasilPrediksi == labelTesting).sum()\n",
    "prediksiSalah = (hasilPrediksi != labelTesting).sum()\n",
    "print(\"Prediksi Benar :\", prediksiBenar, \"data\")\n",
    "print(\"Prediksi Salah :\", prediksiSalah, \"data\")"
   ]
  }
 ],
 "metadata": {
  "kernelspec": {
   "display_name": "Python 3",
   "language": "python",
   "name": "python3"
  },
  "language_info": {
   "codemirror_mode": {
    "name": "ipython",
    "version": 3
   },
   "file_extension": ".py",
   "mimetype": "text/x-python",
   "name": "python",
   "nbconvert_exporter": "python",
   "pygments_lexer": "ipython3",
   "version": "3.10.7"
  }
 },
 "nbformat": 4,
 "nbformat_minor": 2
}
